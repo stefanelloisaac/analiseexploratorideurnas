{
  "nbformat": 4,
  "nbformat_minor": 0,
  "metadata": {
    "colab": {
      "provenance": []
    },
    "kernelspec": {
      "name": "python3",
      "display_name": "Python 3"
    }
  },
  "cells": [
    {
      "cell_type": "markdown",
      "source": [
        "# Análise Exploratória de Dados com Python: Eleições de 2022\n",
        "\n",
        "*   Professor [André Perez](https://www.linkedin.com/in/andremarcosperez/)\n",
        "*   Este trabalho faz parte do Email challenge Python na prática: Analisando dados das eleições 2022 disponibilizado pela [EBAC](https://ebaconline.com.br/).\n",
        "\n",
        "_OBS.: O challenge foi incrementado conforme explicado a seguir no tópico **Introdução**, incluindo dados referentes à um município alvo de um estudo de caso._\n",
        "\n",
        "# Análise feita por **Isaac Stefanello**\n",
        "\n",
        "- [LinkedIn](https://www.linkedin.com/in/isaac-stefanello-a7284978/)\n",
        "- [GitHub](https://github.com/stefanelloisaac)"
      ],
      "metadata": {
        "id": "Oia1v4S51-Nz"
      }
    },
    {
      "cell_type": "markdown",
      "metadata": {
        "id": "d9jDtUbDOE1-"
      },
      "source": [
        "# **Tópicos**\n",
        "\n",
        "<ol type=\"1\">\n",
        "  <li>Introdução;</li>\n",
        "  <li>Exploração;</li>\n",
        "  <li>Processamento;</li>\n",
        "  <li>Visualização;</li>\n",
        "  <li>Considerações.</li>\n",
        "</ol>"
      ]
    },
    {
      "cell_type": "markdown",
      "metadata": {
        "id": "SmoHgt-lwkpD"
      },
      "source": [
        "---"
      ]
    },
    {
      "cell_type": "markdown",
      "metadata": {
        "id": "GABI6OW8OfQ2"
      },
      "source": [
        "# **Etapas**"
      ]
    },
    {
      "cell_type": "markdown",
      "source": [
        "## 1\\. Introdução"
      ],
      "metadata": {
        "id": "-Rig-cljwJdi"
      }
    },
    {
      "cell_type": "markdown",
      "source": [
        "Nesse trabalho, objeto de estudo do pesquisador, foram feitas as análises exploratórias das urnas eletronicas no segundo turno das eleições de 2022. Todas as urnas são referentes a cidade alvo do estudo de caso, apresentada a seguir juntamente com as ferramentas utilizadas para a execução do trabalho."
      ],
      "metadata": {
        "id": "lNGqwyhiE1vq"
      }
    },
    {
      "cell_type": "markdown",
      "source": [
        "### **1.1. Contexto** "
      ],
      "metadata": {
        "id": "Ay4UkojwGskg"
      }
    },
    {
      "cell_type": "markdown",
      "metadata": {
        "id": "JUonSt7kxZyj"
      },
      "source": [
        "O tribunal superior eleitoral (TSE) disponibilizou os dados brutos das urnas de votação utilizadas durante o processo eleitoral de 2022. No site do TSE ([link](https://resultados.tse.jus.br/oficial/app/index.html#/eleicao/resultados)) encontra-se os seguintes dados para cada urna:"
      ]
    },
    {
      "cell_type": "markdown",
      "source": [
        " - **Registro Digital do Voto (RDV)**: Registro unitário dos votos;\n",
        " - **Boletim de Urna**: Resultados agregados;\n",
        " - **Log de Urna**: Todos os eventos que ocorreram na urna."
      ],
      "metadata": {
        "id": "M5K99BBs9C1Q"
      }
    },
    {
      "cell_type": "markdown",
      "source": [
        "A documentação técnica para o processamento dos arquivo também se encontra no website do [TSE](https://www.tse.jus.br/eleicoes/eleicoes-2022/documentacao-tecnica-do-software-da-urna-eletronica)."
      ],
      "metadata": {
        "id": "KIzpIja__Xob"
      }
    },
    {
      "cell_type": "markdown",
      "source": [
        "> Foi utilizada a linguagem **Python** para processar os seus arquivos **RDV** e replicar os valores agregados do seu **Boletim de Urna** para o segundo turno de votação para presidente do processo eleitoral de 2022."
      ],
      "metadata": {
        "id": "19a6O3YOhlmq"
      }
    },
    {
      "cell_type": "markdown",
      "metadata": {
        "id": "muD1vxozykSC"
      },
      "source": [
        "### **1.2. Ferramentas e materiais utilizados**"
      ]
    },
    {
      "cell_type": "markdown",
      "source": [
        "A ferramenta Google Colab foi utilizada como ambiente de execução dos códigos, com posterior criação de um repositório próprio no [GitHub](https://github.com/stefanelloisaac)."
      ],
      "metadata": {
        "id": "Rh7cE9DbRBHJ"
      }
    },
    {
      "cell_type": "markdown",
      "source": [
        "*   [Google Colab](https://colab.research.google.com/)"
      ],
      "metadata": {
        "id": "znXKxOaNMpYo"
      }
    },
    {
      "cell_type": "markdown",
      "source": [
        "Foi utilizada a linguagem [Python](https://docs.python.org/3.11/) e algumas bibliotecas conhecidas, a fim de executar as etapas de exploração, processamento e visualização."
      ],
      "metadata": {
        "id": "9ES6jnp9RDa9"
      }
    },
    {
      "cell_type": "markdown",
      "metadata": {
        "id": "xT1ohV3t0FQJ"
      },
      "source": [
        "*   [Pandas](https://pandas.pydata.org/docs/)\n",
        "*   [Seaborn](https://seaborn.pydata.org/)\n",
        "*   [Glob](https://docs.python.org/3/library/glob.html)\n",
        "*   [OS](https://docs.python.org/3/library/os.html)\n",
        "*   [RE](https://docs.python.org/3/library/re.html)\n",
        "*   [Matplotlib](https://matplotlib.org/)\n",
        "\n",
        "\n",
        "\n"
      ]
    },
    {
      "cell_type": "markdown",
      "source": [
        "### **1.3. Estudo de caso**"
      ],
      "metadata": {
        "id": "8NBCFZL5Mp5H"
      }
    },
    {
      "cell_type": "markdown",
      "source": [
        "A cidade alvo da análise exploratória, foi a cidade de Frederico Westphalen, localizada no noroeste do Rio Grande do Sul.\n",
        "\n",
        "Como principais motivações para a escolha do alvo de estudo, um foi a inegável afinidade com o local, sendo o local de nascimento do pesquisador. \n",
        "Entretanto o mais interessante é mesmo o tamanho da amostra, sendo uma cidade pequena mas com um número de eleitores aptos significativo na região, 25.549\tsegundo o TSE. Outro fator importante é que todas as 81 seções são presentes na mesma zona eleitoral (Zona 0094)."
      ],
      "metadata": {
        "id": "BfREdVvKRMde"
      }
    },
    {
      "cell_type": "markdown",
      "metadata": {
        "id": "EvJTE2FpaGeU"
      },
      "source": [
        "## 2\\. Exploração"
      ]
    },
    {
      "cell_type": "markdown",
      "metadata": {
        "id": "ISYXZbomlb1x"
      },
      "source": [
        "A próxima etapa consiste na exploração, limpeza e extração dos votos do arquivo RDV."
      ]
    },
    {
      "cell_type": "markdown",
      "source": [
        "### **2.1. Upload** "
      ],
      "metadata": {
        "id": "DDpx-CqDoEMB"
      }
    },
    {
      "cell_type": "markdown",
      "source": [
        "No site de resultados do TSE ([link](https://resultados.tse.jus.br/oficial/app/index.html)), foram selecionados todos os dados do segundo turno das eleições de 2022 referentes à cidade de Frederico Westphalen/RS, Zona 094 e totalizando 81 seções eleitorais.\n",
        "Foi feito o *download* dos arquivos RDV de cada urna e então, o seu *upload* no ambiente do Google Colab. "
      ],
      "metadata": {
        "id": "aY9hV7LkoEQv"
      }
    },
    {
      "cell_type": "markdown",
      "source": [
        "### **2.2. Descriptografia** "
      ],
      "metadata": {
        "id": "8lvsCpnSoR0k"
      }
    },
    {
      "cell_type": "markdown",
      "source": [
        "Utilizando o código disponibilizado pelo próprio TSE ([link](https://www.tse.jus.br/eleicoes/eleicoes-2022/documentacao-tecnica-do-software-da-urna-eletronica)) para descriptografar o arquivo RDV em um arquivo de texto. O código foi replicado neste [link](https://raw.githubusercontent.com/andre-marcos-perez/ebac-course-utils/develop/notebooks/2022_11_29/rdv.py) - contribuição do professor André Perez - para facilitar a sua integração com o Google Colab."
      ],
      "metadata": {
        "id": "ue3LBOvcap6Z"
      }
    },
    {
      "cell_type": "markdown",
      "source": [
        " - *Download* do código de descriptografia."
      ],
      "metadata": {
        "id": "Y2XahMe2BMQM"
      }
    },
    {
      "cell_type": "code",
      "source": [
        "!curl -s https://raw.githubusercontent.com/andre-marcos-perez/ebac-course-utils/develop/notebooks/2022_11_29/rdv.py -o rdv.py"
      ],
      "metadata": {
        "id": "bamgYxoFYPjM"
      },
      "execution_count": 1,
      "outputs": []
    },
    {
      "cell_type": "markdown",
      "source": [
        " - Instalação do pacote de criptografia utilizado pelo código."
      ],
      "metadata": {
        "id": "UPbccDxhBXMo"
      }
    },
    {
      "cell_type": "code",
      "source": [
        "!pip install asn1crypto==1.5.1"
      ],
      "metadata": {
        "id": "EQew9bbvZ4L2",
        "colab": {
          "base_uri": "https://localhost:8080/"
        },
        "outputId": "c38db7c3-fbda-446d-aa01-87bc6d2f6761"
      },
      "execution_count": 2,
      "outputs": [
        {
          "output_type": "stream",
          "name": "stdout",
          "text": [
            "Looking in indexes: https://pypi.org/simple, https://us-python.pkg.dev/colab-wheels/public/simple/\n",
            "Collecting asn1crypto==1.5.1\n",
            "  Downloading asn1crypto-1.5.1-py2.py3-none-any.whl (105 kB)\n",
            "\u001b[K     |████████████████████████████████| 105 kB 4.4 MB/s \n",
            "\u001b[?25hInstalling collected packages: asn1crypto\n",
            "Successfully installed asn1crypto-1.5.1\n"
          ]
        }
      ]
    },
    {
      "cell_type": "markdown",
      "source": [
        " - Substituição do texto `<NOME-DO-ARQUIVO-RDV>` pelo nome do arquivo RDV escolhido e correspondente. Nesse caso todos os arquivos foram descriptografados individualmente."
      ],
      "metadata": {
        "id": "DgdhKNTsA9dc"
      }
    },
    {
      "cell_type": "code",
      "source": [
        "!python rdv.py -r o00407-8667300940001.rdv > 001.txt\n",
        "!python rdv.py -r o00407-8667300940002.rdv > 002.txt\n",
        "!python rdv.py -r o00407-8667300940003.rdv > 003.txt\n",
        "!python rdv.py -r o00407-8667300940004.rdv > 004.txt\n",
        "!python rdv.py -r o00407-8667300940005.rdv > 005.txt\n",
        "!python rdv.py -r o00407-8667300940006.rdv > 006.txt\n",
        "!python rdv.py -r o00407-8667300940007.rdv > 007.txt\n",
        "!python rdv.py -r o00407-8667300940008.rdv > 008.txt\n",
        "!python rdv.py -r o00407-8667300940009.rdv > 009.txt\n",
        "!python rdv.py -r o00407-8667300940011.rdv > 011.txt\n",
        "!python rdv.py -r o00407-8667300940013.rdv > 013.txt\n",
        "!python rdv.py -r o00407-8667300940014.rdv > 014.txt\n",
        "!python rdv.py -r o00407-8667300940016.rdv > 016.txt\n",
        "!python rdv.py -r o00407-8667300940017.rdv > 017.txt\n",
        "!python rdv.py -r o00407-8667300940018.rdv > 018.txt\n",
        "!python rdv.py -r o00407-8667300940022.rdv > 022.txt\n",
        "!python rdv.py -r o00407-8667300940023.rdv > 023.txt\n",
        "!python rdv.py -r o00407-8667300940024.rdv > 024.txt\n",
        "!python rdv.py -r o00407-8667300940025.rdv > 025.txt\n",
        "!python rdv.py -r o00407-8667300940027.rdv > 027.txt\n",
        "!python rdv.py -r o00407-8667300940032.rdv > 032.txt\n",
        "!python rdv.py -r o00407-8667300940034.rdv > 034.txt\n",
        "!python rdv.py -r o00407-8667300940035.rdv > 035.txt\n",
        "!python rdv.py -r o00407-8667300940038.rdv > 038.txt\n",
        "!python rdv.py -r o00407-8667300940039.rdv > 039.txt\n",
        "!python rdv.py -r o00407-8667300940040.rdv > 040.txt\n",
        "!python rdv.py -r o00407-8667300940041.rdv > 041.txt\n",
        "!python rdv.py -r o00407-8667300940042.rdv > 042.txt\n",
        "!python rdv.py -r o00407-8667300940043.rdv > 043.txt\n",
        "!python rdv.py -r o00407-8667300940047.rdv > 047.txt\n",
        "!python rdv.py -r o00407-8667300940049.rdv > 049.txt\n",
        "!python rdv.py -r o00407-8667300940050.rdv > 050.txt\n",
        "!python rdv.py -r o00407-8667300940056.rdv > 056.txt\n",
        "!python rdv.py -r o00407-8667300940057.rdv > 057.txt\n",
        "!python rdv.py -r o00407-8667300940061.rdv > 061.txt\n",
        "!python rdv.py -r o00407-8667300940066.rdv > 066.txt\n",
        "!python rdv.py -r o00407-8667300940069.rdv > 069.txt\n",
        "!python rdv.py -r o00407-8667300940070.rdv > 070.txt\n",
        "!python rdv.py -r o00407-8667300940071.rdv > 071.txt\n",
        "!python rdv.py -r o00407-8667300940072.rdv > 072.txt\n",
        "!python rdv.py -r o00407-8667300940073.rdv > 073.txt\n",
        "!python rdv.py -r o00407-8667300940074.rdv > 074.txt\n",
        "!python rdv.py -r o00407-8667300940075.rdv > 075.txt\n",
        "!python rdv.py -r o00407-8667300940076.rdv > 076.txt\n",
        "!python rdv.py -r o00407-8667300940077.rdv > 077.txt\n",
        "!python rdv.py -r o00407-8667300940078.rdv > 078.txt\n",
        "!python rdv.py -r o00407-8667300940079.rdv > 079.txt\n",
        "!python rdv.py -r o00407-8667300940080.rdv > 080.txt\n",
        "!python rdv.py -r o00407-8667300940081.rdv > 081.txt\n",
        "!python rdv.py -r o00407-8667300940084.rdv > 084.txt\n",
        "!python rdv.py -r o00407-8667300940086.rdv > 086.txt\n",
        "!python rdv.py -r o00407-8667300940088.rdv > 088.txt\n",
        "!python rdv.py -r o00407-8667300940089.rdv > 089.txt\n",
        "!python rdv.py -r o00407-8667300940090.rdv > 090.txt\n",
        "!python rdv.py -r o00407-8667300940091.rdv > 091.txt\n",
        "!python rdv.py -r o00407-8667300940092.rdv > 092.txt\n",
        "!python rdv.py -r o00407-8667300940097.rdv > 097.txt\n",
        "!python rdv.py -r o00407-8667300940098.rdv > 098.txt\n",
        "!python rdv.py -r o00407-8667300940100.rdv > 100.txt\n",
        "!python rdv.py -r o00407-8667300940110.rdv > 110.txt\n",
        "!python rdv.py -r o00407-8667300940113.rdv > 113.txt\n",
        "!python rdv.py -r o00407-8667300940114.rdv > 114.txt\n",
        "!python rdv.py -r o00407-8667300940118.rdv > 118.txt\n",
        "!python rdv.py -r o00407-8667300940121.rdv > 121.txt\n",
        "!python rdv.py -r o00407-8667300940130.rdv > 130.txt\n",
        "!python rdv.py -r o00407-8667300940131.rdv > 131.txt\n",
        "!python rdv.py -r o00407-8667300940133.rdv > 133.txt\n",
        "!python rdv.py -r o00407-8667300940134.rdv > 134.txt\n",
        "!python rdv.py -r o00407-8667300940137.rdv > 137.txt\n",
        "!python rdv.py -r o00407-8667300940138.rdv > 138.txt\n",
        "!python rdv.py -r o00407-8667300940141.rdv > 141.txt\n",
        "!python rdv.py -r o00407-8667300940142.rdv > 142.txt\n",
        "!python rdv.py -r o00407-8667300940143.rdv > 143.txt\n",
        "!python rdv.py -r o00407-8667300940146.rdv > 146.txt\n",
        "!python rdv.py -r o00407-8667300940147.rdv > 147.txt\n",
        "!python rdv.py -r o00407-8667300940148.rdv > 148.txt\n",
        "!python rdv.py -r o00407-8667300940150.rdv > 150.txt\n",
        "!python rdv.py -r o00407-8667300940152.rdv > 152.txt\n",
        "!python rdv.py -r o00407-8667300940156.rdv > 156.txt\n",
        "!python rdv.py -r o00407-8667300940160.rdv > 160.txt\n",
        "!python rdv.py -r o00407-8667300940167.rdv > 167.txt"
      ],
      "metadata": {
        "id": "xHTxWEvyNd0y",
        "colab": {
          "base_uri": "https://localhost:8080/"
        },
        "outputId": "fe75c2f1-4509-4ae5-811e-54d7a92e19e3"
      },
      "execution_count": 3,
      "outputs": [
        {
          "output_type": "stream",
          "name": "stdout",
          "text": [
            "2022-12-27 16:20:04,332 - INFO - Converte RDV o00407-8667300940001.rdv\n",
            "2022-12-27 16:20:04,565 - INFO - Converte RDV o00407-8667300940002.rdv\n",
            "2022-12-27 16:20:04,767 - INFO - Converte RDV o00407-8667300940003.rdv\n",
            "2022-12-27 16:20:04,980 - INFO - Converte RDV o00407-8667300940004.rdv\n",
            "2022-12-27 16:20:05,257 - INFO - Converte RDV o00407-8667300940005.rdv\n",
            "2022-12-27 16:20:05,428 - INFO - Converte RDV o00407-8667300940006.rdv\n",
            "2022-12-27 16:20:05,634 - INFO - Converte RDV o00407-8667300940007.rdv\n",
            "2022-12-27 16:20:05,843 - INFO - Converte RDV o00407-8667300940008.rdv\n",
            "2022-12-27 16:20:06,062 - INFO - Converte RDV o00407-8667300940009.rdv\n",
            "2022-12-27 16:20:06,270 - INFO - Converte RDV o00407-8667300940011.rdv\n",
            "2022-12-27 16:20:06,486 - INFO - Converte RDV o00407-8667300940013.rdv\n",
            "2022-12-27 16:20:06,700 - INFO - Converte RDV o00407-8667300940014.rdv\n",
            "2022-12-27 16:20:06,920 - INFO - Converte RDV o00407-8667300940016.rdv\n",
            "2022-12-27 16:20:07,135 - INFO - Converte RDV o00407-8667300940017.rdv\n",
            "2022-12-27 16:20:07,372 - INFO - Converte RDV o00407-8667300940018.rdv\n",
            "2022-12-27 16:20:07,576 - INFO - Converte RDV o00407-8667300940022.rdv\n",
            "2022-12-27 16:20:07,780 - INFO - Converte RDV o00407-8667300940023.rdv\n",
            "2022-12-27 16:20:07,992 - INFO - Converte RDV o00407-8667300940024.rdv\n",
            "2022-12-27 16:20:08,349 - INFO - Converte RDV o00407-8667300940025.rdv\n",
            "2022-12-27 16:20:08,660 - INFO - Converte RDV o00407-8667300940027.rdv\n",
            "2022-12-27 16:20:08,951 - INFO - Converte RDV o00407-8667300940032.rdv\n",
            "2022-12-27 16:20:09,280 - INFO - Converte RDV o00407-8667300940034.rdv\n",
            "2022-12-27 16:20:09,668 - INFO - Converte RDV o00407-8667300940035.rdv\n",
            "2022-12-27 16:20:09,924 - INFO - Converte RDV o00407-8667300940038.rdv\n",
            "2022-12-27 16:20:10,270 - INFO - Converte RDV o00407-8667300940039.rdv\n",
            "2022-12-27 16:20:10,621 - INFO - Converte RDV o00407-8667300940040.rdv\n",
            "2022-12-27 16:20:10,891 - INFO - Converte RDV o00407-8667300940041.rdv\n",
            "2022-12-27 16:20:11,152 - INFO - Converte RDV o00407-8667300940042.rdv\n",
            "2022-12-27 16:20:11,455 - INFO - Converte RDV o00407-8667300940043.rdv\n",
            "2022-12-27 16:20:11,857 - INFO - Converte RDV o00407-8667300940047.rdv\n",
            "2022-12-27 16:20:12,255 - INFO - Converte RDV o00407-8667300940049.rdv\n",
            "2022-12-27 16:20:12,542 - INFO - Converte RDV o00407-8667300940050.rdv\n",
            "2022-12-27 16:20:12,869 - INFO - Converte RDV o00407-8667300940056.rdv\n",
            "2022-12-27 16:20:13,083 - INFO - Converte RDV o00407-8667300940057.rdv\n",
            "2022-12-27 16:20:13,402 - INFO - Converte RDV o00407-8667300940061.rdv\n",
            "2022-12-27 16:20:13,817 - INFO - Converte RDV o00407-8667300940066.rdv\n",
            "2022-12-27 16:20:14,130 - INFO - Converte RDV o00407-8667300940069.rdv\n",
            "2022-12-27 16:20:14,495 - INFO - Converte RDV o00407-8667300940070.rdv\n",
            "2022-12-27 16:20:14,776 - INFO - Converte RDV o00407-8667300940071.rdv\n",
            "2022-12-27 16:20:15,121 - INFO - Converte RDV o00407-8667300940072.rdv\n",
            "2022-12-27 16:20:15,480 - INFO - Converte RDV o00407-8667300940073.rdv\n",
            "2022-12-27 16:20:15,868 - INFO - Converte RDV o00407-8667300940074.rdv\n",
            "2022-12-27 16:20:16,259 - INFO - Converte RDV o00407-8667300940075.rdv\n",
            "2022-12-27 16:20:16,644 - INFO - Converte RDV o00407-8667300940076.rdv\n",
            "2022-12-27 16:20:17,034 - INFO - Converte RDV o00407-8667300940077.rdv\n",
            "2022-12-27 16:20:17,335 - INFO - Converte RDV o00407-8667300940078.rdv\n",
            "2022-12-27 16:20:17,753 - INFO - Converte RDV o00407-8667300940079.rdv\n",
            "2022-12-27 16:20:18,141 - INFO - Converte RDV o00407-8667300940080.rdv\n",
            "2022-12-27 16:20:18,390 - INFO - Converte RDV o00407-8667300940081.rdv\n",
            "2022-12-27 16:20:18,719 - INFO - Converte RDV o00407-8667300940084.rdv\n",
            "2022-12-27 16:20:18,983 - INFO - Converte RDV o00407-8667300940086.rdv\n",
            "2022-12-27 16:20:19,219 - INFO - Converte RDV o00407-8667300940088.rdv\n",
            "2022-12-27 16:20:19,598 - INFO - Converte RDV o00407-8667300940089.rdv\n",
            "2022-12-27 16:20:20,027 - INFO - Converte RDV o00407-8667300940090.rdv\n",
            "2022-12-27 16:20:20,368 - INFO - Converte RDV o00407-8667300940091.rdv\n",
            "2022-12-27 16:20:20,731 - INFO - Converte RDV o00407-8667300940092.rdv\n",
            "2022-12-27 16:20:21,027 - INFO - Converte RDV o00407-8667300940097.rdv\n",
            "2022-12-27 16:20:21,441 - INFO - Converte RDV o00407-8667300940098.rdv\n",
            "2022-12-27 16:20:21,906 - INFO - Converte RDV o00407-8667300940100.rdv\n",
            "2022-12-27 16:20:22,215 - INFO - Converte RDV o00407-8667300940110.rdv\n",
            "2022-12-27 16:20:22,525 - INFO - Converte RDV o00407-8667300940113.rdv\n",
            "2022-12-27 16:20:22,759 - INFO - Converte RDV o00407-8667300940114.rdv\n",
            "2022-12-27 16:20:23,130 - INFO - Converte RDV o00407-8667300940118.rdv\n",
            "2022-12-27 16:20:23,430 - INFO - Converte RDV o00407-8667300940121.rdv\n",
            "2022-12-27 16:20:24,130 - INFO - Converte RDV o00407-8667300940130.rdv\n",
            "2022-12-27 16:20:24,323 - INFO - Converte RDV o00407-8667300940131.rdv\n",
            "2022-12-27 16:20:24,539 - INFO - Converte RDV o00407-8667300940133.rdv\n",
            "2022-12-27 16:20:24,771 - INFO - Converte RDV o00407-8667300940134.rdv\n",
            "2022-12-27 16:20:24,971 - INFO - Converte RDV o00407-8667300940137.rdv\n",
            "2022-12-27 16:20:25,185 - INFO - Converte RDV o00407-8667300940138.rdv\n",
            "2022-12-27 16:20:25,395 - INFO - Converte RDV o00407-8667300940141.rdv\n",
            "2022-12-27 16:20:25,615 - INFO - Converte RDV o00407-8667300940142.rdv\n",
            "2022-12-27 16:20:25,832 - INFO - Converte RDV o00407-8667300940143.rdv\n",
            "2022-12-27 16:20:26,068 - INFO - Converte RDV o00407-8667300940146.rdv\n",
            "2022-12-27 16:20:26,272 - INFO - Converte RDV o00407-8667300940147.rdv\n",
            "2022-12-27 16:20:26,493 - INFO - Converte RDV o00407-8667300940148.rdv\n",
            "2022-12-27 16:20:26,712 - INFO - Converte RDV o00407-8667300940150.rdv\n",
            "2022-12-27 16:20:26,927 - INFO - Converte RDV o00407-8667300940152.rdv\n",
            "2022-12-27 16:20:27,146 - INFO - Converte RDV o00407-8667300940156.rdv\n",
            "2022-12-27 16:20:27,362 - INFO - Converte RDV o00407-8667300940160.rdv\n",
            "2022-12-27 16:20:27,580 - INFO - Converte RDV o00407-8667300940167.rdv\n"
          ]
        }
      ]
    },
    {
      "cell_type": "markdown",
      "source": [
        "### **2.3. Limpeza** "
      ],
      "metadata": {
        "id": "5OFA-fmBohlJ"
      }
    },
    {
      "cell_type": "markdown",
      "source": [
        "Primeiramente existe a necessidade de importação das bibliotecas e arquivos necessários para a etapa de limpeza."
      ],
      "metadata": {
        "id": "d4zw67ZOc-Cm"
      }
    },
    {
      "cell_type": "code",
      "source": [
        "import pandas as pd\n",
        "import os\n",
        "from glob import glob\n",
        "from google.colab import files"
      ],
      "metadata": {
        "id": "4kkU_YTHKExa"
      },
      "execution_count": 4,
      "outputs": []
    },
    {
      "cell_type": "markdown",
      "source": [
        "Nesta etapa existe a necessidade de iterar entre todos os arquivos *.txt* presentes no diretório excluindo uma parte do arquivo quando mencionado 'Governador', visto que o arquivo original inclui todos os dados em uma só coluna de texto.\n",
        "\n",
        "Todos os dados de votação para o cargo de Presidente foram adicionados à uma lista (*holder*)"
      ],
      "metadata": {
        "id": "R3GcIAy7HuSG"
      }
    },
    {
      "cell_type": "code",
      "source": [
        "holder = []\n",
        "\n",
        "for filepath in glob(\"/content/*.txt\"):\n",
        "\n",
        "  with open(filepath, 'r') as file:\n",
        "    rows = file.read().split(\"\\n\")\n",
        "    for linha in rows:\n",
        "      if \"Governador\" in linha:\n",
        "        break\n",
        "      else:\n",
        "        holder.append(linha)"
      ],
      "metadata": {
        "id": "u8GWMNnCBfDo"
      },
      "execution_count": 5,
      "outputs": []
    },
    {
      "cell_type": "markdown",
      "source": [
        "Quanto ao formato da lista, a magnitude dos dados apresentados pelo *len* é próxima do esperado, lembrando que ainda falta a limpeza de caracteres indesejados."
      ],
      "metadata": {
        "id": "1fGfpzScmPvr"
      }
    },
    {
      "cell_type": "code",
      "source": [
        "len(holder)"
      ],
      "metadata": {
        "colab": {
          "base_uri": "https://localhost:8080/"
        },
        "id": "-p1LR59dAhwO",
        "outputId": "eebd0839-9963-4985-84dc-a6da7c9e6457"
      },
      "execution_count": 6,
      "outputs": [
        {
          "output_type": "execute_result",
          "data": {
            "text/plain": [
              "21180"
            ]
          },
          "metadata": {},
          "execution_count": 6
        }
      ]
    },
    {
      "cell_type": "code",
      "source": [
        "for line in holder[0:10]:\n",
        "  print(line)"
      ],
      "metadata": {
        "id": "r0NNW-xhgjZ0",
        "colab": {
          "base_uri": "https://localhost:8080/"
        },
        "outputId": "5569a3e0-ebfe-4291-fca7-34c257d01d59"
      },
      "execution_count": 7,
      "outputs": [
        {
          "output_type": "stream",
          "name": "stdout",
          "text": [
            "========================================\n",
            "----------------------------------------\n",
            "Presidente\n",
            "  1 - nominal  - [13]\n",
            "  2 - nominal  - [13]\n",
            "  3 - nominal  - [13]\n",
            "  4 - nominal  - [13]\n",
            "  5 - nominal  - [13]\n",
            "  6 - nominal  - [13]\n",
            "  7 - nominal  - [13]\n"
          ]
        }
      ]
    },
    {
      "cell_type": "markdown",
      "source": [
        "### **2.4. Extração** "
      ],
      "metadata": {
        "id": "042WnMxQotAX"
      }
    },
    {
      "cell_type": "markdown",
      "source": [
        "Na etapa de extração, foram extraidos apenas os dados de votação."
      ],
      "metadata": {
        "id": "2QpIbXo6gkMY"
      }
    },
    {
      "cell_type": "code",
      "source": [
        "import re"
      ],
      "metadata": {
        "id": "OO99O3ubgh4J"
      },
      "execution_count": 8,
      "outputs": []
    },
    {
      "cell_type": "code",
      "source": [
        "pattern = re.compile(pattern=\"\\[(.*?)\\]\")"
      ],
      "metadata": {
        "id": "jpUIsVTkg5U1"
      },
      "execution_count": 9,
      "outputs": []
    },
    {
      "cell_type": "markdown",
      "source": [
        "Após a exclusão dos dados da coluna referentes à Governador, os votos foram adicionados a uma lista de forma a apresentá-los como brancos, nulos ou nominais. Facilitando a posterior agregação dos mesmos."
      ],
      "metadata": {
        "id": "RfO0Jq1AmrN8"
      }
    },
    {
      "cell_type": "code",
      "source": [
        "votes = []\n",
        "\n",
        "for line in holder:\n",
        "\n",
        "  if \"branco\" in line:\n",
        "\n",
        "    votes.append({\"voto\": \"branco\", \"quantidade\": 1})\n",
        "\n",
        "  if \"nulo\" in line:\n",
        "\n",
        "    votes.append({\"voto\": \"nulo\", \"quantidade\": 1})\n",
        "\n",
        "  if \"nominal\" in line:\n",
        "\n",
        "    vote = re.findall(pattern=pattern, string=line)[0]\n",
        "    votes.append({\"voto\": f\"{vote}\", \"quantidade\": 1})"
      ],
      "metadata": {
        "id": "3yLyf43df-x1"
      },
      "execution_count": 10,
      "outputs": []
    },
    {
      "cell_type": "markdown",
      "source": [
        "A *len* apresentada a seguir confere o número de votantes da eleição de 2022 no segundo turno no local alvo, foram exatamente 20.856 votantes."
      ],
      "metadata": {
        "id": "kgvy_Fz-md-s"
      }
    },
    {
      "cell_type": "code",
      "source": [
        "len(votes)"
      ],
      "metadata": {
        "id": "XjXerw1QhhfK",
        "colab": {
          "base_uri": "https://localhost:8080/"
        },
        "outputId": "46870867-1ccf-4c49-82b6-cb25a1404834"
      },
      "execution_count": 11,
      "outputs": [
        {
          "output_type": "execute_result",
          "data": {
            "text/plain": [
              "20856"
            ]
          },
          "metadata": {},
          "execution_count": 11
        }
      ]
    },
    {
      "cell_type": "code",
      "source": [
        "for vote in votes[0:10]:\n",
        "  print(vote)"
      ],
      "metadata": {
        "id": "-OaGwIXSjiBz",
        "colab": {
          "base_uri": "https://localhost:8080/"
        },
        "outputId": "dee93e44-f926-4bfa-d251-d6412630d66a"
      },
      "execution_count": 12,
      "outputs": [
        {
          "output_type": "stream",
          "name": "stdout",
          "text": [
            "{'voto': '13', 'quantidade': 1}\n",
            "{'voto': '13', 'quantidade': 1}\n",
            "{'voto': '13', 'quantidade': 1}\n",
            "{'voto': '13', 'quantidade': 1}\n",
            "{'voto': '13', 'quantidade': 1}\n",
            "{'voto': '13', 'quantidade': 1}\n",
            "{'voto': '13', 'quantidade': 1}\n",
            "{'voto': '13', 'quantidade': 1}\n",
            "{'voto': '13', 'quantidade': 1}\n",
            "{'voto': '13', 'quantidade': 1}\n"
          ]
        }
      ]
    },
    {
      "cell_type": "markdown",
      "source": [
        "## 3\\. Processamento"
      ],
      "metadata": {
        "id": "9Vc1xfxBnpal"
      }
    },
    {
      "cell_type": "markdown",
      "source": [
        "Na etapa de processamento, a primeira necessidade é agregar os votos contidos nos arquivos RDV."
      ],
      "metadata": {
        "id": "aYgj8tEKn3WV"
      }
    },
    {
      "cell_type": "code",
      "source": [
        "for vote in votes[0:10]:\n",
        "  print(vote)"
      ],
      "metadata": {
        "id": "yvrLD_U8n4mh",
        "colab": {
          "base_uri": "https://localhost:8080/"
        },
        "outputId": "61fa4704-d247-488d-e9e8-5a02586d764b"
      },
      "execution_count": 13,
      "outputs": [
        {
          "output_type": "stream",
          "name": "stdout",
          "text": [
            "{'voto': '13', 'quantidade': 1}\n",
            "{'voto': '13', 'quantidade': 1}\n",
            "{'voto': '13', 'quantidade': 1}\n",
            "{'voto': '13', 'quantidade': 1}\n",
            "{'voto': '13', 'quantidade': 1}\n",
            "{'voto': '13', 'quantidade': 1}\n",
            "{'voto': '13', 'quantidade': 1}\n",
            "{'voto': '13', 'quantidade': 1}\n",
            "{'voto': '13', 'quantidade': 1}\n",
            "{'voto': '13', 'quantidade': 1}\n"
          ]
        }
      ]
    },
    {
      "cell_type": "markdown",
      "source": [
        "### **3.1. Pandas**"
      ],
      "metadata": {
        "id": "1FqEmBSNnj5v"
      }
    },
    {
      "cell_type": "markdown",
      "source": [
        "Para isso o `Pandas` foi utilizado, sendo o pacote **Python** mais utilizado para processamento de dados."
      ],
      "metadata": {
        "id": "Ci6sgZpOjodO"
      }
    },
    {
      "cell_type": "code",
      "source": [
        "import pandas as pd"
      ],
      "metadata": {
        "id": "ATSOc5bNjrgA"
      },
      "execution_count": 14,
      "outputs": []
    },
    {
      "cell_type": "markdown",
      "source": [
        "### **3.2. DataFrame**"
      ],
      "metadata": {
        "id": "e3ElPGw0rZ5f"
      }
    },
    {
      "cell_type": "markdown",
      "source": [
        "A abstração base do `Pandas` é o `DataFrame`, uma estrutura de dados que representa uma tabela de duas dimensões."
      ],
      "metadata": {
        "id": "stW_4PNKrhuX"
      }
    },
    {
      "cell_type": "code",
      "source": [
        "votes_table = pd.DataFrame(votes)"
      ],
      "metadata": {
        "id": "w_ppM8GSjs8o"
      },
      "execution_count": 15,
      "outputs": []
    },
    {
      "cell_type": "code",
      "source": [
        "votes_table.tail(n=30)"
      ],
      "metadata": {
        "id": "XrlA5BULjzE5",
        "colab": {
          "base_uri": "https://localhost:8080/",
          "height": 990
        },
        "outputId": "8b689e52-59e1-4390-ffc7-85f524069877"
      },
      "execution_count": 16,
      "outputs": [
        {
          "output_type": "execute_result",
          "data": {
            "text/plain": [
              "         voto  quantidade\n",
              "20826      22           1\n",
              "20827      22           1\n",
              "20828      22           1\n",
              "20829      22           1\n",
              "20830      22           1\n",
              "20831      22           1\n",
              "20832      22           1\n",
              "20833      22           1\n",
              "20834      22           1\n",
              "20835      22           1\n",
              "20836      22           1\n",
              "20837      22           1\n",
              "20838      22           1\n",
              "20839      22           1\n",
              "20840      22           1\n",
              "20841      22           1\n",
              "20842      22           1\n",
              "20843  branco           1\n",
              "20844  branco           1\n",
              "20845  branco           1\n",
              "20846  branco           1\n",
              "20847  branco           1\n",
              "20848  branco           1\n",
              "20849  branco           1\n",
              "20850  branco           1\n",
              "20851    nulo           1\n",
              "20852    nulo           1\n",
              "20853    nulo           1\n",
              "20854    nulo           1\n",
              "20855    nulo           1"
            ],
            "text/html": [
              "\n",
              "  <div id=\"df-be0a4583-b667-4173-bcb4-3b3e676ef1d2\">\n",
              "    <div class=\"colab-df-container\">\n",
              "      <div>\n",
              "<style scoped>\n",
              "    .dataframe tbody tr th:only-of-type {\n",
              "        vertical-align: middle;\n",
              "    }\n",
              "\n",
              "    .dataframe tbody tr th {\n",
              "        vertical-align: top;\n",
              "    }\n",
              "\n",
              "    .dataframe thead th {\n",
              "        text-align: right;\n",
              "    }\n",
              "</style>\n",
              "<table border=\"1\" class=\"dataframe\">\n",
              "  <thead>\n",
              "    <tr style=\"text-align: right;\">\n",
              "      <th></th>\n",
              "      <th>voto</th>\n",
              "      <th>quantidade</th>\n",
              "    </tr>\n",
              "  </thead>\n",
              "  <tbody>\n",
              "    <tr>\n",
              "      <th>20826</th>\n",
              "      <td>22</td>\n",
              "      <td>1</td>\n",
              "    </tr>\n",
              "    <tr>\n",
              "      <th>20827</th>\n",
              "      <td>22</td>\n",
              "      <td>1</td>\n",
              "    </tr>\n",
              "    <tr>\n",
              "      <th>20828</th>\n",
              "      <td>22</td>\n",
              "      <td>1</td>\n",
              "    </tr>\n",
              "    <tr>\n",
              "      <th>20829</th>\n",
              "      <td>22</td>\n",
              "      <td>1</td>\n",
              "    </tr>\n",
              "    <tr>\n",
              "      <th>20830</th>\n",
              "      <td>22</td>\n",
              "      <td>1</td>\n",
              "    </tr>\n",
              "    <tr>\n",
              "      <th>20831</th>\n",
              "      <td>22</td>\n",
              "      <td>1</td>\n",
              "    </tr>\n",
              "    <tr>\n",
              "      <th>20832</th>\n",
              "      <td>22</td>\n",
              "      <td>1</td>\n",
              "    </tr>\n",
              "    <tr>\n",
              "      <th>20833</th>\n",
              "      <td>22</td>\n",
              "      <td>1</td>\n",
              "    </tr>\n",
              "    <tr>\n",
              "      <th>20834</th>\n",
              "      <td>22</td>\n",
              "      <td>1</td>\n",
              "    </tr>\n",
              "    <tr>\n",
              "      <th>20835</th>\n",
              "      <td>22</td>\n",
              "      <td>1</td>\n",
              "    </tr>\n",
              "    <tr>\n",
              "      <th>20836</th>\n",
              "      <td>22</td>\n",
              "      <td>1</td>\n",
              "    </tr>\n",
              "    <tr>\n",
              "      <th>20837</th>\n",
              "      <td>22</td>\n",
              "      <td>1</td>\n",
              "    </tr>\n",
              "    <tr>\n",
              "      <th>20838</th>\n",
              "      <td>22</td>\n",
              "      <td>1</td>\n",
              "    </tr>\n",
              "    <tr>\n",
              "      <th>20839</th>\n",
              "      <td>22</td>\n",
              "      <td>1</td>\n",
              "    </tr>\n",
              "    <tr>\n",
              "      <th>20840</th>\n",
              "      <td>22</td>\n",
              "      <td>1</td>\n",
              "    </tr>\n",
              "    <tr>\n",
              "      <th>20841</th>\n",
              "      <td>22</td>\n",
              "      <td>1</td>\n",
              "    </tr>\n",
              "    <tr>\n",
              "      <th>20842</th>\n",
              "      <td>22</td>\n",
              "      <td>1</td>\n",
              "    </tr>\n",
              "    <tr>\n",
              "      <th>20843</th>\n",
              "      <td>branco</td>\n",
              "      <td>1</td>\n",
              "    </tr>\n",
              "    <tr>\n",
              "      <th>20844</th>\n",
              "      <td>branco</td>\n",
              "      <td>1</td>\n",
              "    </tr>\n",
              "    <tr>\n",
              "      <th>20845</th>\n",
              "      <td>branco</td>\n",
              "      <td>1</td>\n",
              "    </tr>\n",
              "    <tr>\n",
              "      <th>20846</th>\n",
              "      <td>branco</td>\n",
              "      <td>1</td>\n",
              "    </tr>\n",
              "    <tr>\n",
              "      <th>20847</th>\n",
              "      <td>branco</td>\n",
              "      <td>1</td>\n",
              "    </tr>\n",
              "    <tr>\n",
              "      <th>20848</th>\n",
              "      <td>branco</td>\n",
              "      <td>1</td>\n",
              "    </tr>\n",
              "    <tr>\n",
              "      <th>20849</th>\n",
              "      <td>branco</td>\n",
              "      <td>1</td>\n",
              "    </tr>\n",
              "    <tr>\n",
              "      <th>20850</th>\n",
              "      <td>branco</td>\n",
              "      <td>1</td>\n",
              "    </tr>\n",
              "    <tr>\n",
              "      <th>20851</th>\n",
              "      <td>nulo</td>\n",
              "      <td>1</td>\n",
              "    </tr>\n",
              "    <tr>\n",
              "      <th>20852</th>\n",
              "      <td>nulo</td>\n",
              "      <td>1</td>\n",
              "    </tr>\n",
              "    <tr>\n",
              "      <th>20853</th>\n",
              "      <td>nulo</td>\n",
              "      <td>1</td>\n",
              "    </tr>\n",
              "    <tr>\n",
              "      <th>20854</th>\n",
              "      <td>nulo</td>\n",
              "      <td>1</td>\n",
              "    </tr>\n",
              "    <tr>\n",
              "      <th>20855</th>\n",
              "      <td>nulo</td>\n",
              "      <td>1</td>\n",
              "    </tr>\n",
              "  </tbody>\n",
              "</table>\n",
              "</div>\n",
              "      <button class=\"colab-df-convert\" onclick=\"convertToInteractive('df-be0a4583-b667-4173-bcb4-3b3e676ef1d2')\"\n",
              "              title=\"Convert this dataframe to an interactive table.\"\n",
              "              style=\"display:none;\">\n",
              "        \n",
              "  <svg xmlns=\"http://www.w3.org/2000/svg\" height=\"24px\"viewBox=\"0 0 24 24\"\n",
              "       width=\"24px\">\n",
              "    <path d=\"M0 0h24v24H0V0z\" fill=\"none\"/>\n",
              "    <path d=\"M18.56 5.44l.94 2.06.94-2.06 2.06-.94-2.06-.94-.94-2.06-.94 2.06-2.06.94zm-11 1L8.5 8.5l.94-2.06 2.06-.94-2.06-.94L8.5 2.5l-.94 2.06-2.06.94zm10 10l.94 2.06.94-2.06 2.06-.94-2.06-.94-.94-2.06-.94 2.06-2.06.94z\"/><path d=\"M17.41 7.96l-1.37-1.37c-.4-.4-.92-.59-1.43-.59-.52 0-1.04.2-1.43.59L10.3 9.45l-7.72 7.72c-.78.78-.78 2.05 0 2.83L4 21.41c.39.39.9.59 1.41.59.51 0 1.02-.2 1.41-.59l7.78-7.78 2.81-2.81c.8-.78.8-2.07 0-2.86zM5.41 20L4 18.59l7.72-7.72 1.47 1.35L5.41 20z\"/>\n",
              "  </svg>\n",
              "      </button>\n",
              "      \n",
              "  <style>\n",
              "    .colab-df-container {\n",
              "      display:flex;\n",
              "      flex-wrap:wrap;\n",
              "      gap: 12px;\n",
              "    }\n",
              "\n",
              "    .colab-df-convert {\n",
              "      background-color: #E8F0FE;\n",
              "      border: none;\n",
              "      border-radius: 50%;\n",
              "      cursor: pointer;\n",
              "      display: none;\n",
              "      fill: #1967D2;\n",
              "      height: 32px;\n",
              "      padding: 0 0 0 0;\n",
              "      width: 32px;\n",
              "    }\n",
              "\n",
              "    .colab-df-convert:hover {\n",
              "      background-color: #E2EBFA;\n",
              "      box-shadow: 0px 1px 2px rgba(60, 64, 67, 0.3), 0px 1px 3px 1px rgba(60, 64, 67, 0.15);\n",
              "      fill: #174EA6;\n",
              "    }\n",
              "\n",
              "    [theme=dark] .colab-df-convert {\n",
              "      background-color: #3B4455;\n",
              "      fill: #D2E3FC;\n",
              "    }\n",
              "\n",
              "    [theme=dark] .colab-df-convert:hover {\n",
              "      background-color: #434B5C;\n",
              "      box-shadow: 0px 1px 3px 1px rgba(0, 0, 0, 0.15);\n",
              "      filter: drop-shadow(0px 1px 2px rgba(0, 0, 0, 0.3));\n",
              "      fill: #FFFFFF;\n",
              "    }\n",
              "  </style>\n",
              "\n",
              "      <script>\n",
              "        const buttonEl =\n",
              "          document.querySelector('#df-be0a4583-b667-4173-bcb4-3b3e676ef1d2 button.colab-df-convert');\n",
              "        buttonEl.style.display =\n",
              "          google.colab.kernel.accessAllowed ? 'block' : 'none';\n",
              "\n",
              "        async function convertToInteractive(key) {\n",
              "          const element = document.querySelector('#df-be0a4583-b667-4173-bcb4-3b3e676ef1d2');\n",
              "          const dataTable =\n",
              "            await google.colab.kernel.invokeFunction('convertToInteractive',\n",
              "                                                     [key], {});\n",
              "          if (!dataTable) return;\n",
              "\n",
              "          const docLinkHtml = 'Like what you see? Visit the ' +\n",
              "            '<a target=\"_blank\" href=https://colab.research.google.com/notebooks/data_table.ipynb>data table notebook</a>'\n",
              "            + ' to learn more about interactive tables.';\n",
              "          element.innerHTML = '';\n",
              "          dataTable['output_type'] = 'display_data';\n",
              "          await google.colab.output.renderOutput(dataTable, element);\n",
              "          const docLink = document.createElement('div');\n",
              "          docLink.innerHTML = docLinkHtml;\n",
              "          element.appendChild(docLink);\n",
              "        }\n",
              "      </script>\n",
              "    </div>\n",
              "  </div>\n",
              "  "
            ]
          },
          "metadata": {},
          "execution_count": 16
        }
      ]
    },
    {
      "cell_type": "code",
      "source": [
        "votes_table.shape"
      ],
      "metadata": {
        "id": "7Swsri4Nj3F2",
        "colab": {
          "base_uri": "https://localhost:8080/"
        },
        "outputId": "31068f06-8ae8-4b00-bf48-6fedb7232e41"
      },
      "execution_count": 17,
      "outputs": [
        {
          "output_type": "execute_result",
          "data": {
            "text/plain": [
              "(20856, 2)"
            ]
          },
          "metadata": {},
          "execution_count": 17
        }
      ]
    },
    {
      "cell_type": "markdown",
      "source": [
        "### **3.3. Agregação**"
      ],
      "metadata": {
        "id": "6poQ6YN7riqu"
      }
    },
    {
      "cell_type": "markdown",
      "source": [
        "Nesta etapa foram agrupados os votos com uma operação matemática de soma."
      ],
      "metadata": {
        "id": "ARISjCaFkQZX"
      }
    },
    {
      "cell_type": "code",
      "source": [
        "votes_table_agg = votes_table.groupby('voto').agg('sum').reset_index()"
      ],
      "metadata": {
        "id": "gkEJzWmdj72o"
      },
      "execution_count": 18,
      "outputs": []
    },
    {
      "cell_type": "code",
      "source": [
        "votes_table_agg"
      ],
      "metadata": {
        "id": "dzeCL1gtkK2H",
        "colab": {
          "base_uri": "https://localhost:8080/",
          "height": 175
        },
        "outputId": "b54b80f6-798a-464b-e6ff-b2417ac3738a"
      },
      "execution_count": 19,
      "outputs": [
        {
          "output_type": "execute_result",
          "data": {
            "text/plain": [
              "     voto  quantidade\n",
              "0      13        7918\n",
              "1      22       12234\n",
              "2  branco         301\n",
              "3    nulo         403"
            ],
            "text/html": [
              "\n",
              "  <div id=\"df-5deabd8f-cac4-400c-ae36-a4efa097986c\">\n",
              "    <div class=\"colab-df-container\">\n",
              "      <div>\n",
              "<style scoped>\n",
              "    .dataframe tbody tr th:only-of-type {\n",
              "        vertical-align: middle;\n",
              "    }\n",
              "\n",
              "    .dataframe tbody tr th {\n",
              "        vertical-align: top;\n",
              "    }\n",
              "\n",
              "    .dataframe thead th {\n",
              "        text-align: right;\n",
              "    }\n",
              "</style>\n",
              "<table border=\"1\" class=\"dataframe\">\n",
              "  <thead>\n",
              "    <tr style=\"text-align: right;\">\n",
              "      <th></th>\n",
              "      <th>voto</th>\n",
              "      <th>quantidade</th>\n",
              "    </tr>\n",
              "  </thead>\n",
              "  <tbody>\n",
              "    <tr>\n",
              "      <th>0</th>\n",
              "      <td>13</td>\n",
              "      <td>7918</td>\n",
              "    </tr>\n",
              "    <tr>\n",
              "      <th>1</th>\n",
              "      <td>22</td>\n",
              "      <td>12234</td>\n",
              "    </tr>\n",
              "    <tr>\n",
              "      <th>2</th>\n",
              "      <td>branco</td>\n",
              "      <td>301</td>\n",
              "    </tr>\n",
              "    <tr>\n",
              "      <th>3</th>\n",
              "      <td>nulo</td>\n",
              "      <td>403</td>\n",
              "    </tr>\n",
              "  </tbody>\n",
              "</table>\n",
              "</div>\n",
              "      <button class=\"colab-df-convert\" onclick=\"convertToInteractive('df-5deabd8f-cac4-400c-ae36-a4efa097986c')\"\n",
              "              title=\"Convert this dataframe to an interactive table.\"\n",
              "              style=\"display:none;\">\n",
              "        \n",
              "  <svg xmlns=\"http://www.w3.org/2000/svg\" height=\"24px\"viewBox=\"0 0 24 24\"\n",
              "       width=\"24px\">\n",
              "    <path d=\"M0 0h24v24H0V0z\" fill=\"none\"/>\n",
              "    <path d=\"M18.56 5.44l.94 2.06.94-2.06 2.06-.94-2.06-.94-.94-2.06-.94 2.06-2.06.94zm-11 1L8.5 8.5l.94-2.06 2.06-.94-2.06-.94L8.5 2.5l-.94 2.06-2.06.94zm10 10l.94 2.06.94-2.06 2.06-.94-2.06-.94-.94-2.06-.94 2.06-2.06.94z\"/><path d=\"M17.41 7.96l-1.37-1.37c-.4-.4-.92-.59-1.43-.59-.52 0-1.04.2-1.43.59L10.3 9.45l-7.72 7.72c-.78.78-.78 2.05 0 2.83L4 21.41c.39.39.9.59 1.41.59.51 0 1.02-.2 1.41-.59l7.78-7.78 2.81-2.81c.8-.78.8-2.07 0-2.86zM5.41 20L4 18.59l7.72-7.72 1.47 1.35L5.41 20z\"/>\n",
              "  </svg>\n",
              "      </button>\n",
              "      \n",
              "  <style>\n",
              "    .colab-df-container {\n",
              "      display:flex;\n",
              "      flex-wrap:wrap;\n",
              "      gap: 12px;\n",
              "    }\n",
              "\n",
              "    .colab-df-convert {\n",
              "      background-color: #E8F0FE;\n",
              "      border: none;\n",
              "      border-radius: 50%;\n",
              "      cursor: pointer;\n",
              "      display: none;\n",
              "      fill: #1967D2;\n",
              "      height: 32px;\n",
              "      padding: 0 0 0 0;\n",
              "      width: 32px;\n",
              "    }\n",
              "\n",
              "    .colab-df-convert:hover {\n",
              "      background-color: #E2EBFA;\n",
              "      box-shadow: 0px 1px 2px rgba(60, 64, 67, 0.3), 0px 1px 3px 1px rgba(60, 64, 67, 0.15);\n",
              "      fill: #174EA6;\n",
              "    }\n",
              "\n",
              "    [theme=dark] .colab-df-convert {\n",
              "      background-color: #3B4455;\n",
              "      fill: #D2E3FC;\n",
              "    }\n",
              "\n",
              "    [theme=dark] .colab-df-convert:hover {\n",
              "      background-color: #434B5C;\n",
              "      box-shadow: 0px 1px 3px 1px rgba(0, 0, 0, 0.15);\n",
              "      filter: drop-shadow(0px 1px 2px rgba(0, 0, 0, 0.3));\n",
              "      fill: #FFFFFF;\n",
              "    }\n",
              "  </style>\n",
              "\n",
              "      <script>\n",
              "        const buttonEl =\n",
              "          document.querySelector('#df-5deabd8f-cac4-400c-ae36-a4efa097986c button.colab-df-convert');\n",
              "        buttonEl.style.display =\n",
              "          google.colab.kernel.accessAllowed ? 'block' : 'none';\n",
              "\n",
              "        async function convertToInteractive(key) {\n",
              "          const element = document.querySelector('#df-5deabd8f-cac4-400c-ae36-a4efa097986c');\n",
              "          const dataTable =\n",
              "            await google.colab.kernel.invokeFunction('convertToInteractive',\n",
              "                                                     [key], {});\n",
              "          if (!dataTable) return;\n",
              "\n",
              "          const docLinkHtml = 'Like what you see? Visit the ' +\n",
              "            '<a target=\"_blank\" href=https://colab.research.google.com/notebooks/data_table.ipynb>data table notebook</a>'\n",
              "            + ' to learn more about interactive tables.';\n",
              "          element.innerHTML = '';\n",
              "          dataTable['output_type'] = 'display_data';\n",
              "          await google.colab.output.renderOutput(dataTable, element);\n",
              "          const docLink = document.createElement('div');\n",
              "          docLink.innerHTML = docLinkHtml;\n",
              "          element.appendChild(docLink);\n",
              "        }\n",
              "      </script>\n",
              "    </div>\n",
              "  </div>\n",
              "  "
            ]
          },
          "metadata": {},
          "execution_count": 19
        }
      ]
    },
    {
      "cell_type": "markdown",
      "source": [
        "Em seguida, os mesmos dados do *dataframe* foram ordenados de forma decrescente, ou seja, da maior quantidade de votos para a menor."
      ],
      "metadata": {
        "id": "KCWacJbzkSc_"
      }
    },
    {
      "cell_type": "code",
      "source": [
        "votes_table_agg = votes_table_agg.sort_values(by='quantidade', ascending=False)"
      ],
      "metadata": {
        "id": "J9t3nD4ukTQC"
      },
      "execution_count": 20,
      "outputs": []
    },
    {
      "cell_type": "code",
      "source": [
        "votes_table_agg"
      ],
      "metadata": {
        "id": "mC7IT5eckdDI",
        "colab": {
          "base_uri": "https://localhost:8080/",
          "height": 175
        },
        "outputId": "dadb6b6f-7fd4-4a93-c456-dcbc4484d8d6"
      },
      "execution_count": 21,
      "outputs": [
        {
          "output_type": "execute_result",
          "data": {
            "text/plain": [
              "     voto  quantidade\n",
              "1      22       12234\n",
              "0      13        7918\n",
              "3    nulo         403\n",
              "2  branco         301"
            ],
            "text/html": [
              "\n",
              "  <div id=\"df-66ec5514-7f67-4be8-9238-7edfe29f69b1\">\n",
              "    <div class=\"colab-df-container\">\n",
              "      <div>\n",
              "<style scoped>\n",
              "    .dataframe tbody tr th:only-of-type {\n",
              "        vertical-align: middle;\n",
              "    }\n",
              "\n",
              "    .dataframe tbody tr th {\n",
              "        vertical-align: top;\n",
              "    }\n",
              "\n",
              "    .dataframe thead th {\n",
              "        text-align: right;\n",
              "    }\n",
              "</style>\n",
              "<table border=\"1\" class=\"dataframe\">\n",
              "  <thead>\n",
              "    <tr style=\"text-align: right;\">\n",
              "      <th></th>\n",
              "      <th>voto</th>\n",
              "      <th>quantidade</th>\n",
              "    </tr>\n",
              "  </thead>\n",
              "  <tbody>\n",
              "    <tr>\n",
              "      <th>1</th>\n",
              "      <td>22</td>\n",
              "      <td>12234</td>\n",
              "    </tr>\n",
              "    <tr>\n",
              "      <th>0</th>\n",
              "      <td>13</td>\n",
              "      <td>7918</td>\n",
              "    </tr>\n",
              "    <tr>\n",
              "      <th>3</th>\n",
              "      <td>nulo</td>\n",
              "      <td>403</td>\n",
              "    </tr>\n",
              "    <tr>\n",
              "      <th>2</th>\n",
              "      <td>branco</td>\n",
              "      <td>301</td>\n",
              "    </tr>\n",
              "  </tbody>\n",
              "</table>\n",
              "</div>\n",
              "      <button class=\"colab-df-convert\" onclick=\"convertToInteractive('df-66ec5514-7f67-4be8-9238-7edfe29f69b1')\"\n",
              "              title=\"Convert this dataframe to an interactive table.\"\n",
              "              style=\"display:none;\">\n",
              "        \n",
              "  <svg xmlns=\"http://www.w3.org/2000/svg\" height=\"24px\"viewBox=\"0 0 24 24\"\n",
              "       width=\"24px\">\n",
              "    <path d=\"M0 0h24v24H0V0z\" fill=\"none\"/>\n",
              "    <path d=\"M18.56 5.44l.94 2.06.94-2.06 2.06-.94-2.06-.94-.94-2.06-.94 2.06-2.06.94zm-11 1L8.5 8.5l.94-2.06 2.06-.94-2.06-.94L8.5 2.5l-.94 2.06-2.06.94zm10 10l.94 2.06.94-2.06 2.06-.94-2.06-.94-.94-2.06-.94 2.06-2.06.94z\"/><path d=\"M17.41 7.96l-1.37-1.37c-.4-.4-.92-.59-1.43-.59-.52 0-1.04.2-1.43.59L10.3 9.45l-7.72 7.72c-.78.78-.78 2.05 0 2.83L4 21.41c.39.39.9.59 1.41.59.51 0 1.02-.2 1.41-.59l7.78-7.78 2.81-2.81c.8-.78.8-2.07 0-2.86zM5.41 20L4 18.59l7.72-7.72 1.47 1.35L5.41 20z\"/>\n",
              "  </svg>\n",
              "      </button>\n",
              "      \n",
              "  <style>\n",
              "    .colab-df-container {\n",
              "      display:flex;\n",
              "      flex-wrap:wrap;\n",
              "      gap: 12px;\n",
              "    }\n",
              "\n",
              "    .colab-df-convert {\n",
              "      background-color: #E8F0FE;\n",
              "      border: none;\n",
              "      border-radius: 50%;\n",
              "      cursor: pointer;\n",
              "      display: none;\n",
              "      fill: #1967D2;\n",
              "      height: 32px;\n",
              "      padding: 0 0 0 0;\n",
              "      width: 32px;\n",
              "    }\n",
              "\n",
              "    .colab-df-convert:hover {\n",
              "      background-color: #E2EBFA;\n",
              "      box-shadow: 0px 1px 2px rgba(60, 64, 67, 0.3), 0px 1px 3px 1px rgba(60, 64, 67, 0.15);\n",
              "      fill: #174EA6;\n",
              "    }\n",
              "\n",
              "    [theme=dark] .colab-df-convert {\n",
              "      background-color: #3B4455;\n",
              "      fill: #D2E3FC;\n",
              "    }\n",
              "\n",
              "    [theme=dark] .colab-df-convert:hover {\n",
              "      background-color: #434B5C;\n",
              "      box-shadow: 0px 1px 3px 1px rgba(0, 0, 0, 0.15);\n",
              "      filter: drop-shadow(0px 1px 2px rgba(0, 0, 0, 0.3));\n",
              "      fill: #FFFFFF;\n",
              "    }\n",
              "  </style>\n",
              "\n",
              "      <script>\n",
              "        const buttonEl =\n",
              "          document.querySelector('#df-66ec5514-7f67-4be8-9238-7edfe29f69b1 button.colab-df-convert');\n",
              "        buttonEl.style.display =\n",
              "          google.colab.kernel.accessAllowed ? 'block' : 'none';\n",
              "\n",
              "        async function convertToInteractive(key) {\n",
              "          const element = document.querySelector('#df-66ec5514-7f67-4be8-9238-7edfe29f69b1');\n",
              "          const dataTable =\n",
              "            await google.colab.kernel.invokeFunction('convertToInteractive',\n",
              "                                                     [key], {});\n",
              "          if (!dataTable) return;\n",
              "\n",
              "          const docLinkHtml = 'Like what you see? Visit the ' +\n",
              "            '<a target=\"_blank\" href=https://colab.research.google.com/notebooks/data_table.ipynb>data table notebook</a>'\n",
              "            + ' to learn more about interactive tables.';\n",
              "          element.innerHTML = '';\n",
              "          dataTable['output_type'] = 'display_data';\n",
              "          await google.colab.output.renderOutput(dataTable, element);\n",
              "          const docLink = document.createElement('div');\n",
              "          docLink.innerHTML = docLinkHtml;\n",
              "          element.appendChild(docLink);\n",
              "        }\n",
              "      </script>\n",
              "    </div>\n",
              "  </div>\n",
              "  "
            ]
          },
          "metadata": {},
          "execution_count": 21
        }
      ]
    },
    {
      "cell_type": "markdown",
      "source": [
        "Para um melhor entendimento dos dados que foram trabalhados, foi adicionada mais uma coluna com os valores relativos percentuais da agregação dos dados."
      ],
      "metadata": {
        "id": "MZ6CzHPTkg7X"
      }
    },
    {
      "cell_type": "code",
      "source": [
        "votes_table_agg['quantidade_pct'] = round(100 * (votes_table_agg['quantidade'] / votes_table_agg['quantidade'].sum()), 2)"
      ],
      "metadata": {
        "id": "MgSv8oWKkiH2"
      },
      "execution_count": 22,
      "outputs": []
    },
    {
      "cell_type": "code",
      "source": [
        "votes_table_agg"
      ],
      "metadata": {
        "id": "lRxc6x1mlIGf",
        "colab": {
          "base_uri": "https://localhost:8080/",
          "height": 175
        },
        "outputId": "c5513689-10e0-4408-dc59-0e623d3ca736"
      },
      "execution_count": 23,
      "outputs": [
        {
          "output_type": "execute_result",
          "data": {
            "text/plain": [
              "     voto  quantidade  quantidade_pct\n",
              "1      22       12234           58.66\n",
              "0      13        7918           37.97\n",
              "3    nulo         403            1.93\n",
              "2  branco         301            1.44"
            ],
            "text/html": [
              "\n",
              "  <div id=\"df-cd8a568c-e471-4683-b0c4-811cb150a518\">\n",
              "    <div class=\"colab-df-container\">\n",
              "      <div>\n",
              "<style scoped>\n",
              "    .dataframe tbody tr th:only-of-type {\n",
              "        vertical-align: middle;\n",
              "    }\n",
              "\n",
              "    .dataframe tbody tr th {\n",
              "        vertical-align: top;\n",
              "    }\n",
              "\n",
              "    .dataframe thead th {\n",
              "        text-align: right;\n",
              "    }\n",
              "</style>\n",
              "<table border=\"1\" class=\"dataframe\">\n",
              "  <thead>\n",
              "    <tr style=\"text-align: right;\">\n",
              "      <th></th>\n",
              "      <th>voto</th>\n",
              "      <th>quantidade</th>\n",
              "      <th>quantidade_pct</th>\n",
              "    </tr>\n",
              "  </thead>\n",
              "  <tbody>\n",
              "    <tr>\n",
              "      <th>1</th>\n",
              "      <td>22</td>\n",
              "      <td>12234</td>\n",
              "      <td>58.66</td>\n",
              "    </tr>\n",
              "    <tr>\n",
              "      <th>0</th>\n",
              "      <td>13</td>\n",
              "      <td>7918</td>\n",
              "      <td>37.97</td>\n",
              "    </tr>\n",
              "    <tr>\n",
              "      <th>3</th>\n",
              "      <td>nulo</td>\n",
              "      <td>403</td>\n",
              "      <td>1.93</td>\n",
              "    </tr>\n",
              "    <tr>\n",
              "      <th>2</th>\n",
              "      <td>branco</td>\n",
              "      <td>301</td>\n",
              "      <td>1.44</td>\n",
              "    </tr>\n",
              "  </tbody>\n",
              "</table>\n",
              "</div>\n",
              "      <button class=\"colab-df-convert\" onclick=\"convertToInteractive('df-cd8a568c-e471-4683-b0c4-811cb150a518')\"\n",
              "              title=\"Convert this dataframe to an interactive table.\"\n",
              "              style=\"display:none;\">\n",
              "        \n",
              "  <svg xmlns=\"http://www.w3.org/2000/svg\" height=\"24px\"viewBox=\"0 0 24 24\"\n",
              "       width=\"24px\">\n",
              "    <path d=\"M0 0h24v24H0V0z\" fill=\"none\"/>\n",
              "    <path d=\"M18.56 5.44l.94 2.06.94-2.06 2.06-.94-2.06-.94-.94-2.06-.94 2.06-2.06.94zm-11 1L8.5 8.5l.94-2.06 2.06-.94-2.06-.94L8.5 2.5l-.94 2.06-2.06.94zm10 10l.94 2.06.94-2.06 2.06-.94-2.06-.94-.94-2.06-.94 2.06-2.06.94z\"/><path d=\"M17.41 7.96l-1.37-1.37c-.4-.4-.92-.59-1.43-.59-.52 0-1.04.2-1.43.59L10.3 9.45l-7.72 7.72c-.78.78-.78 2.05 0 2.83L4 21.41c.39.39.9.59 1.41.59.51 0 1.02-.2 1.41-.59l7.78-7.78 2.81-2.81c.8-.78.8-2.07 0-2.86zM5.41 20L4 18.59l7.72-7.72 1.47 1.35L5.41 20z\"/>\n",
              "  </svg>\n",
              "      </button>\n",
              "      \n",
              "  <style>\n",
              "    .colab-df-container {\n",
              "      display:flex;\n",
              "      flex-wrap:wrap;\n",
              "      gap: 12px;\n",
              "    }\n",
              "\n",
              "    .colab-df-convert {\n",
              "      background-color: #E8F0FE;\n",
              "      border: none;\n",
              "      border-radius: 50%;\n",
              "      cursor: pointer;\n",
              "      display: none;\n",
              "      fill: #1967D2;\n",
              "      height: 32px;\n",
              "      padding: 0 0 0 0;\n",
              "      width: 32px;\n",
              "    }\n",
              "\n",
              "    .colab-df-convert:hover {\n",
              "      background-color: #E2EBFA;\n",
              "      box-shadow: 0px 1px 2px rgba(60, 64, 67, 0.3), 0px 1px 3px 1px rgba(60, 64, 67, 0.15);\n",
              "      fill: #174EA6;\n",
              "    }\n",
              "\n",
              "    [theme=dark] .colab-df-convert {\n",
              "      background-color: #3B4455;\n",
              "      fill: #D2E3FC;\n",
              "    }\n",
              "\n",
              "    [theme=dark] .colab-df-convert:hover {\n",
              "      background-color: #434B5C;\n",
              "      box-shadow: 0px 1px 3px 1px rgba(0, 0, 0, 0.15);\n",
              "      filter: drop-shadow(0px 1px 2px rgba(0, 0, 0, 0.3));\n",
              "      fill: #FFFFFF;\n",
              "    }\n",
              "  </style>\n",
              "\n",
              "      <script>\n",
              "        const buttonEl =\n",
              "          document.querySelector('#df-cd8a568c-e471-4683-b0c4-811cb150a518 button.colab-df-convert');\n",
              "        buttonEl.style.display =\n",
              "          google.colab.kernel.accessAllowed ? 'block' : 'none';\n",
              "\n",
              "        async function convertToInteractive(key) {\n",
              "          const element = document.querySelector('#df-cd8a568c-e471-4683-b0c4-811cb150a518');\n",
              "          const dataTable =\n",
              "            await google.colab.kernel.invokeFunction('convertToInteractive',\n",
              "                                                     [key], {});\n",
              "          if (!dataTable) return;\n",
              "\n",
              "          const docLinkHtml = 'Like what you see? Visit the ' +\n",
              "            '<a target=\"_blank\" href=https://colab.research.google.com/notebooks/data_table.ipynb>data table notebook</a>'\n",
              "            + ' to learn more about interactive tables.';\n",
              "          element.innerHTML = '';\n",
              "          dataTable['output_type'] = 'display_data';\n",
              "          await google.colab.output.renderOutput(dataTable, element);\n",
              "          const docLink = document.createElement('div');\n",
              "          docLink.innerHTML = docLinkHtml;\n",
              "          element.appendChild(docLink);\n",
              "        }\n",
              "      </script>\n",
              "    </div>\n",
              "  </div>\n",
              "  "
            ]
          },
          "metadata": {},
          "execution_count": 23
        }
      ]
    },
    {
      "cell_type": "markdown",
      "source": [
        "## 4\\. Visualização"
      ],
      "metadata": {
        "id": "Yn0ButilmZOV"
      }
    },
    {
      "cell_type": "markdown",
      "source": [
        "Com os dados já agregados e os valores definidos através dos cálculos anteriormente desenvolvidos, segue a parte de visualização dos mesmos.\n",
        "Principalmente as bibliotecas *seaborn* e *matplotlib* foram utilizadas nessa etapa."
      ],
      "metadata": {
        "id": "8ZmzZGzzlLJy"
      }
    },
    {
      "cell_type": "code",
      "source": [
        "votes_table_agg"
      ],
      "metadata": {
        "id": "upkG1XXUn9aw",
        "colab": {
          "base_uri": "https://localhost:8080/",
          "height": 175
        },
        "outputId": "fdd7a950-22e8-4b3a-d992-585046c02dfa"
      },
      "execution_count": 24,
      "outputs": [
        {
          "output_type": "execute_result",
          "data": {
            "text/plain": [
              "     voto  quantidade  quantidade_pct\n",
              "1      22       12234           58.66\n",
              "0      13        7918           37.97\n",
              "3    nulo         403            1.93\n",
              "2  branco         301            1.44"
            ],
            "text/html": [
              "\n",
              "  <div id=\"df-03ce2f76-2199-412a-a112-ca95da76975b\">\n",
              "    <div class=\"colab-df-container\">\n",
              "      <div>\n",
              "<style scoped>\n",
              "    .dataframe tbody tr th:only-of-type {\n",
              "        vertical-align: middle;\n",
              "    }\n",
              "\n",
              "    .dataframe tbody tr th {\n",
              "        vertical-align: top;\n",
              "    }\n",
              "\n",
              "    .dataframe thead th {\n",
              "        text-align: right;\n",
              "    }\n",
              "</style>\n",
              "<table border=\"1\" class=\"dataframe\">\n",
              "  <thead>\n",
              "    <tr style=\"text-align: right;\">\n",
              "      <th></th>\n",
              "      <th>voto</th>\n",
              "      <th>quantidade</th>\n",
              "      <th>quantidade_pct</th>\n",
              "    </tr>\n",
              "  </thead>\n",
              "  <tbody>\n",
              "    <tr>\n",
              "      <th>1</th>\n",
              "      <td>22</td>\n",
              "      <td>12234</td>\n",
              "      <td>58.66</td>\n",
              "    </tr>\n",
              "    <tr>\n",
              "      <th>0</th>\n",
              "      <td>13</td>\n",
              "      <td>7918</td>\n",
              "      <td>37.97</td>\n",
              "    </tr>\n",
              "    <tr>\n",
              "      <th>3</th>\n",
              "      <td>nulo</td>\n",
              "      <td>403</td>\n",
              "      <td>1.93</td>\n",
              "    </tr>\n",
              "    <tr>\n",
              "      <th>2</th>\n",
              "      <td>branco</td>\n",
              "      <td>301</td>\n",
              "      <td>1.44</td>\n",
              "    </tr>\n",
              "  </tbody>\n",
              "</table>\n",
              "</div>\n",
              "      <button class=\"colab-df-convert\" onclick=\"convertToInteractive('df-03ce2f76-2199-412a-a112-ca95da76975b')\"\n",
              "              title=\"Convert this dataframe to an interactive table.\"\n",
              "              style=\"display:none;\">\n",
              "        \n",
              "  <svg xmlns=\"http://www.w3.org/2000/svg\" height=\"24px\"viewBox=\"0 0 24 24\"\n",
              "       width=\"24px\">\n",
              "    <path d=\"M0 0h24v24H0V0z\" fill=\"none\"/>\n",
              "    <path d=\"M18.56 5.44l.94 2.06.94-2.06 2.06-.94-2.06-.94-.94-2.06-.94 2.06-2.06.94zm-11 1L8.5 8.5l.94-2.06 2.06-.94-2.06-.94L8.5 2.5l-.94 2.06-2.06.94zm10 10l.94 2.06.94-2.06 2.06-.94-2.06-.94-.94-2.06-.94 2.06-2.06.94z\"/><path d=\"M17.41 7.96l-1.37-1.37c-.4-.4-.92-.59-1.43-.59-.52 0-1.04.2-1.43.59L10.3 9.45l-7.72 7.72c-.78.78-.78 2.05 0 2.83L4 21.41c.39.39.9.59 1.41.59.51 0 1.02-.2 1.41-.59l7.78-7.78 2.81-2.81c.8-.78.8-2.07 0-2.86zM5.41 20L4 18.59l7.72-7.72 1.47 1.35L5.41 20z\"/>\n",
              "  </svg>\n",
              "      </button>\n",
              "      \n",
              "  <style>\n",
              "    .colab-df-container {\n",
              "      display:flex;\n",
              "      flex-wrap:wrap;\n",
              "      gap: 12px;\n",
              "    }\n",
              "\n",
              "    .colab-df-convert {\n",
              "      background-color: #E8F0FE;\n",
              "      border: none;\n",
              "      border-radius: 50%;\n",
              "      cursor: pointer;\n",
              "      display: none;\n",
              "      fill: #1967D2;\n",
              "      height: 32px;\n",
              "      padding: 0 0 0 0;\n",
              "      width: 32px;\n",
              "    }\n",
              "\n",
              "    .colab-df-convert:hover {\n",
              "      background-color: #E2EBFA;\n",
              "      box-shadow: 0px 1px 2px rgba(60, 64, 67, 0.3), 0px 1px 3px 1px rgba(60, 64, 67, 0.15);\n",
              "      fill: #174EA6;\n",
              "    }\n",
              "\n",
              "    [theme=dark] .colab-df-convert {\n",
              "      background-color: #3B4455;\n",
              "      fill: #D2E3FC;\n",
              "    }\n",
              "\n",
              "    [theme=dark] .colab-df-convert:hover {\n",
              "      background-color: #434B5C;\n",
              "      box-shadow: 0px 1px 3px 1px rgba(0, 0, 0, 0.15);\n",
              "      filter: drop-shadow(0px 1px 2px rgba(0, 0, 0, 0.3));\n",
              "      fill: #FFFFFF;\n",
              "    }\n",
              "  </style>\n",
              "\n",
              "      <script>\n",
              "        const buttonEl =\n",
              "          document.querySelector('#df-03ce2f76-2199-412a-a112-ca95da76975b button.colab-df-convert');\n",
              "        buttonEl.style.display =\n",
              "          google.colab.kernel.accessAllowed ? 'block' : 'none';\n",
              "\n",
              "        async function convertToInteractive(key) {\n",
              "          const element = document.querySelector('#df-03ce2f76-2199-412a-a112-ca95da76975b');\n",
              "          const dataTable =\n",
              "            await google.colab.kernel.invokeFunction('convertToInteractive',\n",
              "                                                     [key], {});\n",
              "          if (!dataTable) return;\n",
              "\n",
              "          const docLinkHtml = 'Like what you see? Visit the ' +\n",
              "            '<a target=\"_blank\" href=https://colab.research.google.com/notebooks/data_table.ipynb>data table notebook</a>'\n",
              "            + ' to learn more about interactive tables.';\n",
              "          element.innerHTML = '';\n",
              "          dataTable['output_type'] = 'display_data';\n",
              "          await google.colab.output.renderOutput(dataTable, element);\n",
              "          const docLink = document.createElement('div');\n",
              "          docLink.innerHTML = docLinkHtml;\n",
              "          element.appendChild(docLink);\n",
              "        }\n",
              "      </script>\n",
              "    </div>\n",
              "  </div>\n",
              "  "
            ]
          },
          "metadata": {},
          "execution_count": 24
        }
      ]
    },
    {
      "cell_type": "markdown",
      "source": [
        "### **4.1. Seaborn**"
      ],
      "metadata": {
        "id": "jomWZQ4wnYh7"
      }
    },
    {
      "cell_type": "markdown",
      "source": [
        "O `Seaborn` e o `Matplotlib`, foram utilizados para visualização de dados."
      ],
      "metadata": {
        "id": "cggXsefznzxn"
      }
    },
    {
      "cell_type": "code",
      "source": [
        "import seaborn as sns\n",
        "import matplotlib.pyplot as plt"
      ],
      "metadata": {
        "id": "pKTiZEq-lL-q"
      },
      "execution_count": 25,
      "outputs": []
    },
    {
      "cell_type": "code",
      "source": [
        "URNA = \"Frederico Westphalen - Zona 0094\""
      ],
      "metadata": {
        "id": "PTMFZ1jjmkew"
      },
      "execution_count": 26,
      "outputs": []
    },
    {
      "cell_type": "markdown",
      "source": [
        "Nesta primeira visualização, foi elaborada em relação a **quantidade de votos absolutos**."
      ],
      "metadata": {
        "id": "qCcZEvdIp3qX"
      }
    },
    {
      "cell_type": "code",
      "source": [
        "x_column = 'voto'\n",
        "y_column = 'quantidade'"
      ],
      "metadata": {
        "id": "1NndRl7Bq3yN"
      },
      "execution_count": 27,
      "outputs": []
    },
    {
      "cell_type": "code",
      "source": [
        "title = f'Apuração Presidente - 2º turno de 2022 - {URNA}'\n",
        "x_label = 'Voto'\n",
        "y_label = 'Quantidade'"
      ],
      "metadata": {
        "id": "4PHyn-SAq3yO"
      },
      "execution_count": 28,
      "outputs": []
    },
    {
      "cell_type": "code",
      "source": [
        "with sns.axes_style(\"darkgrid\", {\"grid.color\": \".2\", \"grid.linestyle\": \":\"}):\n",
        "  chart = sns.barplot(data=votes_table_agg, x=x_column, y=y_column, palette='Set2')\n",
        "\n",
        "for g in chart.patches:\n",
        "    chart.annotate(format(g.get_height(), '.1f'),\n",
        "                   (g.get_x() + g.get_width() / 2., g.get_height()),\n",
        "                   ha = 'center', va = 'center',\n",
        "                   xytext = (0, 9),\n",
        "                   textcoords = 'offset points')\n",
        "\n",
        "sns.set(rc={'figure.figsize':(8,8)})\n",
        "chart.set_title(title, pad=20)\n",
        "chart.set_xlabel(x_label, size = 12)\n",
        "chart.set_ylabel(y_label, size = 12)"
      ],
      "metadata": {
        "id": "1FkWOYQ0lWIi",
        "colab": {
          "base_uri": "https://localhost:8080/",
          "height": 549
        },
        "outputId": "888c8e68-198d-41f3-eb8d-5262802c476b"
      },
      "execution_count": 34,
      "outputs": [
        {
          "output_type": "execute_result",
          "data": {
            "text/plain": [
              "Text(0, 0.5, 'Quantidade (%)')"
            ]
          },
          "metadata": {},
          "execution_count": 34
        },
        {
          "output_type": "display_data",
          "data": {
            "text/plain": [
              "<Figure size 576x576 with 1 Axes>"
            ],
            "image/png": "[encoded data removed]"
          },
          "metadata": {}
        }
      ]
    },
    {
      "cell_type": "markdown",
      "source": [
        "Nesta segunda visualização, foram observados os dados em relação a **quantidade de votos relativos**."
      ],
      "metadata": {
        "id": "C8SJN63Qp5FC"
      }
    },
    {
      "cell_type": "code",
      "source": [
        "x_column = 'voto'\n",
        "y_column = 'quantidade_pct'"
      ],
      "metadata": {
        "id": "iOXiDL_UqtnQ"
      },
      "execution_count": 30,
      "outputs": []
    },
    {
      "cell_type": "code",
      "source": [
        "title = f'Apuração Presidente - 2º turno de 2022 - {URNA}'\n",
        "x_label = 'Voto'\n",
        "y_label = 'Quantidade (%)'"
      ],
      "metadata": {
        "id": "aMy65iinqEHJ"
      },
      "execution_count": 31,
      "outputs": []
    },
    {
      "cell_type": "code",
      "source": [
        "with sns.axes_style(\"darkgrid\", {\"grid.color\": \".2\", \"grid.linestyle\": \":\"}):\n",
        "  chart = sns.barplot(data=votes_table_agg, x=x_column, y=y_column, palette=\"Set2\")\n",
        "\n",
        "for g in chart.patches:\n",
        "    chart.annotate(format(g.get_height(), '.2f'),\n",
        "                   (g.get_x() + g.get_width() / 2., g.get_height()),\n",
        "                   ha = 'center', va = 'center',\n",
        "                   xytext = (0, 9),\n",
        "                   textcoords = 'offset points')\n",
        "    \n",
        "sns.set(rc={'figure.figsize':(8,8)})\n",
        "chart.set_title(title, pad=20)\n",
        "chart.set_xlabel(x_label, size = 12)\n",
        "chart.set_ylabel(y_label, size = 12)"
      ],
      "metadata": {
        "id": "2421F39nmDy4",
        "colab": {
          "base_uri": "https://localhost:8080/",
          "height": 549
        },
        "outputId": "34ebdc5b-f9f2-45cb-df4d-9240d8749cb1"
      },
      "execution_count": 35,
      "outputs": [
        {
          "output_type": "execute_result",
          "data": {
            "text/plain": [
              "Text(0, 0.5, 'Quantidade (%)')"
            ]
          },
          "metadata": {},
          "execution_count": 35
        },
        {
          "output_type": "display_data",
          "data": {
            "text/plain": [
              "<Figure size 576x576 with 1 Axes>"
            ],
            "image/png": "[encoded data removed]"
          },
          "metadata": {}
        }
      ]
    },
    {
      "cell_type": "markdown",
      "source": [
        "Levando em conta que se trata de uma visualização percentual, um gráfico de pizza foi aplicado visando melhor entendimento."
      ],
      "metadata": {
        "id": "e_gp1dO1ue4K"
      }
    },
    {
      "cell_type": "code",
      "source": [
        "fig =plt.figure(figsize = (10,10))\n",
        "ax11 = fig.add_subplot(111)\n",
        "\n",
        "sizes = [58.66, 37.97, 1.93, 1.44]\n",
        "labels = '22', '13', 'Nulo', 'Branco'\n",
        "colors = sns.color_palette(\"Set2\", 10)\n",
        "explode = (0, 0, 0.1, 0.1)\n",
        "\n",
        "w,l,p = ax11.pie(sizes,  labels=labels, colors=colors, autopct='%1.2f%%', startangle=182.5, pctdistance=0.87, radius = 1, explode=explode)\n",
        "[t.set_rotation(0) for t in p]\n",
        "[t.set_fontsize(14) for t in p]\n",
        "[t.set_fontsize(18) for t in l]\n",
        "plt.axis('equal')\n",
        "plt.show()"
      ],
      "metadata": {
        "colab": {
          "base_uri": "https://localhost:8080/",
          "height": 575
        },
        "id": "6O6GOdNJrnVW",
        "outputId": "a95c6170-b248-44c0-9502-ca4423fd7048"
      },
      "execution_count": 33,
      "outputs": [
        {
          "output_type": "display_data",
          "data": {
            "text/plain": [
              "<Figure size 720x720 with 1 Axes>"
            ],
            "image/png": "[encoded data removed]"
          },
          "metadata": {}
        }
      ]
    },
    {
      "cell_type": "markdown",
      "source": [
        "## 5\\. Considerações"
      ],
      "metadata": {
        "id": "6k-4cGE8mvep"
      }
    },
    {
      "cell_type": "markdown",
      "source": [
        "Alguns comentários sobre o andamento e também os resultados foram surgindo e foram separados conforme sua respectiva categoria: *insights* ou sugestões futuras de contribuição."
      ],
      "metadata": {
        "id": "k_JoHgsBnVFX"
      }
    },
    {
      "cell_type": "markdown",
      "source": [
        "### **5.1. *Insights* e Conclusão**"
      ],
      "metadata": {
        "id": "s9IZBReZnNAi"
      }
    },
    {
      "cell_type": "markdown",
      "metadata": {
        "id": "xnsoZc_wI0sl"
      },
      "source": [
        "- Um dos principais valores extraídos pelo trabalho é a confirmação dos dados disponibilizados pelo **TSE**, obtendo sucesso nesse sentido. Considerando votos totais, os valores disponibilizados estão em consonância com os resultados deste trabalho.\n",
        "\n",
        "\n",
        "- O código funciona de forma a trabalhar com cenários em quaisquer zonas ou cidades, uma vez que o formato dos dados é o mesmo (.rdv).\n",
        "\n",
        "\n",
        "- Entretanto, algumas etapas podem ser melhoradas principalmente no que diz respeito a descriptografia dos dados de forma mais automatizada. Outro fator que pode ser elaborado é a aquisição dos dados do site do **TSE**, uma vez que em alguns locais a quantidade seria massivamente maior. "
      ]
    },
    {
      "cell_type": "markdown",
      "source": [
        "### **5.2. Trabalhos futuros**"
      ],
      "metadata": {
        "id": "sOlWsZsExPLr"
      }
    },
    {
      "cell_type": "markdown",
      "source": [
        "- Alguns outros dados disponibilizados pelo **TSE** podem produzir *insights* interessantes como é o caso da distribuição de eleitores da localidade por gênero, faixa etária e nível de instrução.\n",
        "\n",
        "- Como dito anteriormente, com alguns ajustes de descriptografia e aquisição de dados de forma mais automatizada, a magnitude de dados obtidos pode ser muito mais rápida e permitir a análise em diversas zonas e regiões simultaneamente, favorecendo a comparação e cruzamento dos dados obtidos."
      ],
      "metadata": {
        "id": "GS2klhgLy4GI"
      }
    }
  ]
}